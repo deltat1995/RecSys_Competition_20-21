{
 "cells": [
  {
   "cell_type": "markdown",
   "metadata": {},
   "source": [
    "### Importing of libraries"
   ]
  },
  {
   "cell_type": "code",
   "execution_count": 16,
   "metadata": {},
   "outputs": [],
   "source": [
    "import os\n",
    "from typing import Tuple, Callable, Dict, Optional, List\n",
    "\n",
    "import time\n",
    "import numpy as np\n",
    "import pandas as pd\n",
    "import scipy.sparse as sps\n",
    "\n",
    "from sklearn.model_selection import train_test_split"
   ]
  },
  {
   "cell_type": "markdown",
   "metadata": {},
   "source": [
    "### Dataset Loading"
   ]
  },
  {
   "cell_type": "code",
   "execution_count": 17,
   "metadata": {},
   "outputs": [
    {
     "data": {
      "text/html": [
       "<div>\n",
       "<style scoped>\n",
       "    .dataframe tbody tr th:only-of-type {\n",
       "        vertical-align: middle;\n",
       "    }\n",
       "\n",
       "    .dataframe tbody tr th {\n",
       "        vertical-align: top;\n",
       "    }\n",
       "\n",
       "    .dataframe thead th {\n",
       "        text-align: right;\n",
       "    }\n",
       "</style>\n",
       "<table border=\"1\" class=\"dataframe\">\n",
       "  <thead>\n",
       "    <tr style=\"text-align: right;\">\n",
       "      <th></th>\n",
       "      <th>user_id</th>\n",
       "      <th>item_id</th>\n",
       "      <th>impl_rating</th>\n",
       "    </tr>\n",
       "  </thead>\n",
       "  <tbody>\n",
       "    <tr>\n",
       "      <th>0</th>\n",
       "      <td>0</td>\n",
       "      <td>10080</td>\n",
       "      <td>1</td>\n",
       "    </tr>\n",
       "    <tr>\n",
       "      <th>1</th>\n",
       "      <td>0</td>\n",
       "      <td>19467</td>\n",
       "      <td>1</td>\n",
       "    </tr>\n",
       "    <tr>\n",
       "      <th>2</th>\n",
       "      <td>1</td>\n",
       "      <td>2665</td>\n",
       "      <td>1</td>\n",
       "    </tr>\n",
       "    <tr>\n",
       "      <th>3</th>\n",
       "      <td>1</td>\n",
       "      <td>7494</td>\n",
       "      <td>1</td>\n",
       "    </tr>\n",
       "    <tr>\n",
       "      <th>4</th>\n",
       "      <td>1</td>\n",
       "      <td>17068</td>\n",
       "      <td>1</td>\n",
       "    </tr>\n",
       "    <tr>\n",
       "      <th>...</th>\n",
       "      <td>...</td>\n",
       "      <td>...</td>\n",
       "      <td>...</td>\n",
       "    </tr>\n",
       "    <tr>\n",
       "      <th>113263</th>\n",
       "      <td>7945</td>\n",
       "      <td>2476</td>\n",
       "      <td>1</td>\n",
       "    </tr>\n",
       "    <tr>\n",
       "      <th>113264</th>\n",
       "      <td>7945</td>\n",
       "      <td>12319</td>\n",
       "      <td>1</td>\n",
       "    </tr>\n",
       "    <tr>\n",
       "      <th>113265</th>\n",
       "      <td>7945</td>\n",
       "      <td>21384</td>\n",
       "      <td>1</td>\n",
       "    </tr>\n",
       "    <tr>\n",
       "      <th>113266</th>\n",
       "      <td>7946</td>\n",
       "      <td>8699</td>\n",
       "      <td>1</td>\n",
       "    </tr>\n",
       "    <tr>\n",
       "      <th>113267</th>\n",
       "      <td>7946</td>\n",
       "      <td>19178</td>\n",
       "      <td>1</td>\n",
       "    </tr>\n",
       "  </tbody>\n",
       "</table>\n",
       "<p>113268 rows × 3 columns</p>\n",
       "</div>"
      ],
      "text/plain": [
       "        user_id  item_id  impl_rating\n",
       "0             0    10080            1\n",
       "1             0    19467            1\n",
       "2             1     2665            1\n",
       "3             1     7494            1\n",
       "4             1    17068            1\n",
       "...         ...      ...          ...\n",
       "113263     7945     2476            1\n",
       "113264     7945    12319            1\n",
       "113265     7945    21384            1\n",
       "113266     7946     8699            1\n",
       "113267     7946    19178            1\n",
       "\n",
       "[113268 rows x 3 columns]"
      ]
     },
     "execution_count": 17,
     "metadata": {},
     "output_type": "execute_result"
    }
   ],
   "source": [
    "from modUtils import dataManager as dm\n",
    "\n",
    "urm_matrix = dm.load_data()\n",
    "urm_matrix"
   ]
  },
  {
   "cell_type": "markdown",
   "metadata": {},
   "source": [
    "### Data Preprocessing"
   ]
  },
  {
   "cell_type": "code",
   "execution_count": 18,
   "metadata": {},
   "outputs": [
    {
     "name": "stdout",
     "output_type": "stream",
     "text": [
      "Numero di users: 7947, UserId minimo: 0, UserId massimo: 7946\n",
      "Numero di items: 24896, ItemId minimo: 0, ItemId massimo: 25974\n",
      "Sparsity della URM: 0.057 %\n"
     ]
    }
   ],
   "source": [
    "urm_matrix = dm.preprocess_data(urm_matrix)"
   ]
  },
  {
   "cell_type": "code",
   "execution_count": 19,
   "metadata": {},
   "outputs": [
    {
     "data": {
      "text/html": [
       "<div>\n",
       "<style scoped>\n",
       "    .dataframe tbody tr th:only-of-type {\n",
       "        vertical-align: middle;\n",
       "    }\n",
       "\n",
       "    .dataframe tbody tr th {\n",
       "        vertical-align: top;\n",
       "    }\n",
       "\n",
       "    .dataframe thead th {\n",
       "        text-align: right;\n",
       "    }\n",
       "</style>\n",
       "<table border=\"1\" class=\"dataframe\">\n",
       "  <thead>\n",
       "    <tr style=\"text-align: right;\">\n",
       "      <th></th>\n",
       "      <th>user_id</th>\n",
       "      <th>item_id</th>\n",
       "      <th>impl_rating</th>\n",
       "      <th>mapped_user_id</th>\n",
       "      <th>mapped_item_id</th>\n",
       "    </tr>\n",
       "  </thead>\n",
       "  <tbody>\n",
       "    <tr>\n",
       "      <th>0</th>\n",
       "      <td>0</td>\n",
       "      <td>10080</td>\n",
       "      <td>1</td>\n",
       "      <td>0</td>\n",
       "      <td>0</td>\n",
       "    </tr>\n",
       "    <tr>\n",
       "      <th>1</th>\n",
       "      <td>4342</td>\n",
       "      <td>10080</td>\n",
       "      <td>1</td>\n",
       "      <td>4342</td>\n",
       "      <td>0</td>\n",
       "    </tr>\n",
       "    <tr>\n",
       "      <th>2</th>\n",
       "      <td>5526</td>\n",
       "      <td>10080</td>\n",
       "      <td>1</td>\n",
       "      <td>5526</td>\n",
       "      <td>0</td>\n",
       "    </tr>\n",
       "    <tr>\n",
       "      <th>3</th>\n",
       "      <td>5923</td>\n",
       "      <td>10080</td>\n",
       "      <td>1</td>\n",
       "      <td>5923</td>\n",
       "      <td>0</td>\n",
       "    </tr>\n",
       "    <tr>\n",
       "      <th>4</th>\n",
       "      <td>0</td>\n",
       "      <td>19467</td>\n",
       "      <td>1</td>\n",
       "      <td>0</td>\n",
       "      <td>1</td>\n",
       "    </tr>\n",
       "    <tr>\n",
       "      <th>...</th>\n",
       "      <td>...</td>\n",
       "      <td>...</td>\n",
       "      <td>...</td>\n",
       "      <td>...</td>\n",
       "      <td>...</td>\n",
       "    </tr>\n",
       "    <tr>\n",
       "      <th>113263</th>\n",
       "      <td>7944</td>\n",
       "      <td>22542</td>\n",
       "      <td>1</td>\n",
       "      <td>7944</td>\n",
       "      <td>24891</td>\n",
       "    </tr>\n",
       "    <tr>\n",
       "      <th>113264</th>\n",
       "      <td>7944</td>\n",
       "      <td>24806</td>\n",
       "      <td>1</td>\n",
       "      <td>7944</td>\n",
       "      <td>24892</td>\n",
       "    </tr>\n",
       "    <tr>\n",
       "      <th>113265</th>\n",
       "      <td>7944</td>\n",
       "      <td>24912</td>\n",
       "      <td>1</td>\n",
       "      <td>7944</td>\n",
       "      <td>24893</td>\n",
       "    </tr>\n",
       "    <tr>\n",
       "      <th>113266</th>\n",
       "      <td>7944</td>\n",
       "      <td>24990</td>\n",
       "      <td>1</td>\n",
       "      <td>7944</td>\n",
       "      <td>24894</td>\n",
       "    </tr>\n",
       "    <tr>\n",
       "      <th>113267</th>\n",
       "      <td>7944</td>\n",
       "      <td>25953</td>\n",
       "      <td>1</td>\n",
       "      <td>7944</td>\n",
       "      <td>24895</td>\n",
       "    </tr>\n",
       "  </tbody>\n",
       "</table>\n",
       "<p>113268 rows × 5 columns</p>\n",
       "</div>"
      ],
      "text/plain": [
       "        user_id  item_id  impl_rating  mapped_user_id  mapped_item_id\n",
       "0             0    10080            1               0               0\n",
       "1          4342    10080            1            4342               0\n",
       "2          5526    10080            1            5526               0\n",
       "3          5923    10080            1            5923               0\n",
       "4             0    19467            1               0               1\n",
       "...         ...      ...          ...             ...             ...\n",
       "113263     7944    22542            1            7944           24891\n",
       "113264     7944    24806            1            7944           24892\n",
       "113265     7944    24912            1            7944           24893\n",
       "113266     7944    24990            1            7944           24894\n",
       "113267     7944    25953            1            7944           24895\n",
       "\n",
       "[113268 rows x 5 columns]"
      ]
     },
     "execution_count": 19,
     "metadata": {},
     "output_type": "execute_result"
    }
   ],
   "source": [
    "urm_matrix"
   ]
  },
  {
   "cell_type": "markdown",
   "metadata": {},
   "source": [
    "### Dataset Splitting (NO MAPPING)"
   ]
  },
  {
   "cell_type": "code",
   "execution_count": 20,
   "metadata": {},
   "outputs": [],
   "source": [
    "def dataset_splits(ratings, num_users, num_items, val_perc: float) -> \\\n",
    "        (pd.DataFrame, pd.DataFrame, pd.DataFrame):\n",
    "    \"\"\"DIVIDE IL DATASET DEL URM IN TRAINING, VALUATION AND TEST SETS SENZA MAPPING\"\"\"\n",
    "    seed = 9876\n",
    "\n",
    "    (uid_training, uid_val,\n",
    "     iid_training, iid_val,\n",
    "     ratings_training, ratings_val) = train_test_split(ratings.user_id,\n",
    "                                                        ratings.item_id,\n",
    "                                                        ratings.impl_rating,\n",
    "                                                        test_size=val_perc,\n",
    "                                                        shuffle=True,\n",
    "                                                        random_state=seed)\n",
    "\n",
    "    urm_train = sps.csr_matrix((ratings_training, (uid_training, iid_training)), shape=(7947,25975))\n",
    "    urm_val = sps.csr_matrix((ratings_val, (uid_val, iid_val)), shape=(7947,25975))\n",
    "\n",
    "    return urm_train, urm_val"
   ]
  },
  {
   "cell_type": "code",
   "execution_count": 21,
   "metadata": {},
   "outputs": [],
   "source": [
    "urm_train,urm_val = dataset_splits(urm_matrix, \n",
    "                                    num_users=7947, \n",
    "                                    num_items=24896, \n",
    "                                    val_perc=0.2)"
   ]
  },
  {
   "cell_type": "code",
   "execution_count": 22,
   "metadata": {},
   "outputs": [
    {
     "data": {
      "text/plain": [
       "<7947x25975 sparse matrix of type '<class 'numpy.intc'>'\n",
       "\twith 90614 stored elements in Compressed Sparse Row format>"
      ]
     },
     "execution_count": 22,
     "metadata": {},
     "output_type": "execute_result"
    }
   ],
   "source": [
    "urm_train"
   ]
  },
  {
   "cell_type": "code",
   "execution_count": 23,
   "metadata": {},
   "outputs": [
    {
     "data": {
      "text/plain": [
       "<7947x25975 sparse matrix of type '<class 'numpy.intc'>'\n",
       "\twith 22654 stored elements in Compressed Sparse Row format>"
      ]
     },
     "execution_count": 23,
     "metadata": {},
     "output_type": "execute_result"
    }
   ],
   "source": [
    "urm_val"
   ]
  },
  {
   "cell_type": "markdown",
   "metadata": {},
   "source": [
    "### Evaluator"
   ]
  },
  {
   "cell_type": "code",
   "execution_count": 24,
   "metadata": {},
   "outputs": [],
   "source": [
    "def mean_average_precision(recommendations: np.array, relevant_items: np.array) -> float:\n",
    "    is_relevant = np.in1d(recommendations, relevant_items, assume_unique=True)\n",
    "\n",
    "    precision_at_k = is_relevant * np.cumsum(is_relevant, dtype=np.float32) / (1 + np.arange(is_relevant.shape[0]))\n",
    "\n",
    "    map_score = np.sum(precision_at_k) / np.min([relevant_items.shape[0], is_relevant.shape[0]])\n",
    "\n",
    "    return map_score\n",
    "\n",
    "def evaluate(recommender: object, urm_train: sps.csr_matrix, urm_val: sps.csr_matrix) -> float:\n",
    "    \"\"\"VALUTA UN RECOMMENDER SYSTEM E RITORNA I VALORI DI MAP\"\"\"\n",
    "\n",
    "    recommendation_length = 10\n",
    "    accum_map = 0\n",
    "\n",
    "    num_users = urm_train.shape[0]\n",
    "    num_users_evaluated = 0\n",
    "\n",
    "    for user_id in range(num_users):\n",
    "        user_profile_start = urm_val.indptr[user_id]\n",
    "        user_profile_end = urm_val.indptr[user_id + 1]\n",
    "\n",
    "        relevant_items = urm_val.indices[user_profile_start:user_profile_end]\n",
    "        if relevant_items.size == 0:\n",
    "            continue\n",
    "\n",
    "        recommendations = recommender.recommend(user_id=user_id,\n",
    "                                                at=recommendation_length,\n",
    "                                                urm_train=urm_train)\n",
    "\n",
    "        accum_map += mean_average_precision(recommendations, relevant_items)\n",
    "        num_users_evaluated += 1\n",
    "\n",
    "    accum_map /= max(num_users_evaluated, 1)\n",
    "\n",
    "    return accum_map"
   ]
  },
  {
   "cell_type": "markdown",
   "metadata": {},
   "source": [
    "### Item-Based SLIM Recommender"
   ]
  },
  {
   "cell_type": "code",
   "execution_count": 25,
   "metadata": {},
   "outputs": [
    {
     "name": "stdout",
     "output_type": "stream",
     "text": [
      "The Cython extension is already loaded. To reload it, use:\n",
      "  %reload_ext Cython\n"
     ]
    }
   ],
   "source": [
    "%load_ext Cython"
   ]
  },
  {
   "cell_type": "code",
   "execution_count": 26,
   "metadata": {},
   "outputs": [],
   "source": [
    "%%cython\n",
    "import numpy as np\n",
    "import time\n",
    "from libc.stdlib cimport rand, srand, RAND_MAX\n",
    "\n",
    "def train_multiple_epochs(URM_train,simil_matrix, loss_value, learning_rate_input):\n",
    "\n",
    "    URM_train_coo = URM_train.tocoo()\n",
    "    cdef int n_items = URM_train.shape[1]\n",
    "    cdef int n_interactions = URM_train.nnz\n",
    "    cdef int[:] URM_train_row = URM_train_coo.row\n",
    "    cdef int[:] URM_train_col = URM_train_coo.col\n",
    "    cdef int[:] URM_train_data = URM_train_coo.data\n",
    "    cdef int[:] URM_train_indices = URM_train.indices\n",
    "    cdef int[:] URM_train_indptr = URM_train.indptr\n",
    "\n",
    "    cdef double[:,:] item_item_S = simil_matrix\n",
    "    cdef double learning_rate = learning_rate_input\n",
    "    cdef double loss = loss_value\n",
    "    cdef long start_time\n",
    "    cdef double rating, predicted_rating, prediction_error\n",
    "    cdef int start_profile, end_profile\n",
    "    cdef int index, sample_num, user_id, item_id, seen_item_id\n",
    "  \n",
    "    for sample_num in range(n_interactions):\n",
    "\n",
    "        # Randomly pick sample\n",
    "        index = rand() % n_interactions\n",
    "\n",
    "        user_id = URM_train_row[index]\n",
    "        item_id = URM_train_col[index]\n",
    "        rating = URM_train_data[index]\n",
    "\n",
    "        # Compute prediction\n",
    "        start_profile = URM_train_indptr[user_id]\n",
    "        end_profile = URM_train_indptr[user_id+1]\n",
    "        predicted_rating = 0.0\n",
    "\n",
    "        for index in range(start_profile, end_profile):\n",
    "            seen_item_id = URM_train_indices[index]\n",
    "            predicted_rating += item_item_S[seen_item_id,item_id]\n",
    "\n",
    "        # Compute prediction error, or gradient\n",
    "        prediction_error = rating - predicted_rating\n",
    "        loss += prediction_error**2\n",
    "\n",
    "        # Update model, in this case the similarity\n",
    "        for index in range(start_profile, end_profile):\n",
    "            seen_item_id = URM_train_indices[index]\n",
    "            item_item_S[seen_item_id,item_id] += prediction_error * learning_rate\n",
    "\n",
    "    return np.array(item_item_S,dtype=np.float),loss"
   ]
  },
  {
   "cell_type": "code",
   "execution_count": 27,
   "metadata": {},
   "outputs": [],
   "source": [
    "from Base.Similarity.Compute_Similarity_Python import Compute_Similarity_Python\n",
    "\n",
    "class ItemKNNSLIMRecommender(object):\n",
    "\n",
    "    def __init__(self, URM):\n",
    "        self.URM = URM\n",
    "        n_items = URM.shape[1]\n",
    "        self.W_sparse = np.zeros((n_items, n_items), dtype = np.float)\n",
    "\n",
    "    def fit(self,validation_set, learning_rate, n_epochs, early_stopping = False, max_out = 5):\n",
    "        max_map = 0\n",
    "        prev_map = 0\n",
    "        n_out = 0\n",
    "        W_best = self.W_sparse.copy()\n",
    "        for n_epoch in range(n_epochs):\n",
    "            loss = 0.0\n",
    "            start_time = time.time()\n",
    "            self.W_sparse,loss = train_multiple_epochs(self.URM,self.W_sparse, loss, learning_rate)\n",
    "            sample_num = self.URM.nnz\n",
    "            elapsed_time = time.time() - start_time\n",
    "            samples_per_second = sample_num/elapsed_time\n",
    "            print(\"Epoch {} complete in in {:.2f} seconds, loss is {:.3E}. Samples per second {:.2f}\".format(n_epoch+1, time.time() - start_time, loss/sample_num, samples_per_second))\n",
    "            map_val = evaluate(self,self.URM,validation_set)\n",
    "            print(\"Validation Complete - MAP = {:.5f}\".format(map_val))\n",
    "            if map_val > max_map:\n",
    "                n_out=0\n",
    "                max_map = map_val\n",
    "                W_best = self.W_sparse.copy()\n",
    "            elif map_val < prev_map:\n",
    "                n_out+=1\n",
    "                if early_stopping and n_out>max_out:\n",
    "                    print(f\"Applying Early Stopping - Stop to Epoch={n_epoch+1} and MAP={max_map}\")\n",
    "                    self.W_sparse = W_best\n",
    "                    break\n",
    "            prev_map = map_val\n",
    "        return max_map\n",
    "\n",
    "\n",
    "    def recommend(self, user_id: int, urm_train: sps.csr_matrix, at: Optional[int] = None, remove_unseen: bool = True):\n",
    "        # compute the scores using the dot product\n",
    "        user_profile = urm_train[user_id]\n",
    "        scores = user_profile.dot(self.W_sparse).ravel()\n",
    "\n",
    "        if remove_unseen:\n",
    "            scores = self.filter_seen(user_id, scores)\n",
    "\n",
    "        # rank items\n",
    "        ranking = scores.argsort()[::-1]\n",
    "\n",
    "        return ranking[:at]\n",
    "\n",
    "    def filter_seen(self, user_id, scores):\n",
    "        start_pos = urm_train.indptr[user_id]\n",
    "        end_pos = urm_train.indptr[user_id + 1]\n",
    "\n",
    "        user_profile = urm_train.indices[start_pos:end_pos]\n",
    "\n",
    "        scores[user_profile] = -np.inf\n",
    "\n",
    "        return scores"
   ]
  },
  {
   "cell_type": "code",
   "execution_count": 28,
   "metadata": {},
   "outputs": [],
   "source": [
    "itemslimknn_recommender = ItemKNNSLIMRecommender(URM=urm_train)"
   ]
  },
  {
   "cell_type": "code",
   "execution_count": 29,
   "metadata": {},
   "outputs": [
    {
     "name": "stdout",
     "output_type": "stream",
     "text": [
      "Epoch 1 complete in in 15.89 seconds, loss is 8.152E-01. Samples per second 5702.00\n",
      "Validation Complete - MAP = 0.02776\n"
     ]
    }
   ],
   "source": [
    "_ = itemslimknn_recommender.fit(validation_set = urm_val,\n",
    "                                learning_rate = 1e-3,\n",
    "                                n_epochs = 1,\n",
    "                                early_stopping = False,\n",
    "                                max_out = 5)"
   ]
  },
  {
   "cell_type": "code",
   "execution_count": 30,
   "metadata": {
    "scrolled": false
   },
   "outputs": [
    {
     "name": "stdout",
     "output_type": "stream",
     "text": [
      "[19704 20108 20711 25582   544  3169  7639  8544  1611  9726]\n",
      "[23600 19709  3570 12409 18317 20095 14895 19089 22558 24075]\n",
      "[10676 15835 14359     2  9635 19910  8251 17264 11006 17783]\n",
      "[25974  8660  8650  8651  8652  8653  8654  8655  8656  8657]\n",
      "[21552 11384  2839  7124  3169 11658 24908 11452 15327 21464]\n",
      "[ 8097  5044 19709  7494 15691  2665  1240  7013   627 11900]\n",
      "[18173 25044  8894  9090 18798 14356 12227 25407 24075   681]\n",
      "[18527 21270  1217  8808   133 20955  6124 11141 13840 12252]\n",
      "[22848 17819  8990 12466 18392 21123 12319 11834  1240 17877]\n",
      "[20856 14383 22788 16830 17898 21291 22522 19996 17350 15320]\n"
     ]
    }
   ],
   "source": [
    "for user_id in range(10):\n",
    "    print(itemslimknn_recommender.recommend(user_id=user_id,\n",
    "                                  at=10, \n",
    "                                  urm_train=urm_train))"
   ]
  },
  {
   "cell_type": "markdown",
   "metadata": {},
   "source": [
    "### Hyperparameter Tuning"
   ]
  },
  {
   "cell_type": "code",
   "execution_count": 31,
   "metadata": {},
   "outputs": [],
   "source": [
    "def hyperparameter_tuning(val_set,n_epochs = 200, early_stopping = True, max_out = 10):\n",
    "    results = []\n",
    "    values = [1e-3,3e-3,5e-3,3e-2,3e-1]\n",
    "    for lrate in values:\n",
    "        print(f\"Currently trying learning rate = {lrate}\")\n",
    "        \n",
    "        recommender = ItemKNNSLIMRecommender(URM=urm_train)\n",
    "        \n",
    "        ev_map = recommender.fit(validation_set = val_set,\n",
    "                                 learning_rate = lrate,\n",
    "                                 n_epochs = n_epochs,\n",
    "                                 early_stopping = early_stopping,\n",
    "                                 max_out = max_out)\n",
    "        \n",
    "        results.append((lrate, ev_map))      \n",
    "    return results"
   ]
  },
  {
   "cell_type": "markdown",
   "metadata": {},
   "source": [
    "### What is the better learning rate?"
   ]
  },
  {
   "cell_type": "code",
   "execution_count": 32,
   "metadata": {
    "scrolled": true
   },
   "outputs": [
    {
     "name": "stdout",
     "output_type": "stream",
     "text": [
      "Currently trying learning rate = 0.001\n",
      "Epoch 1 complete in in 19.91 seconds, loss is 8.133E-01. Samples per second 4550.09\n",
      "Validation Complete - MAP = 0.02896\n"
     ]
    },
    {
     "ename": "KeyboardInterrupt",
     "evalue": "",
     "output_type": "error",
     "traceback": [
      "\u001b[1;31m---------------------------------------------------------------------------\u001b[0m",
      "\u001b[1;31mKeyboardInterrupt\u001b[0m                         Traceback (most recent call last)",
      "\u001b[1;32m<ipython-input-32-7c52808155af>\u001b[0m in \u001b[0;36m<module>\u001b[1;34m\u001b[0m\n\u001b[1;32m----> 1\u001b[1;33m \u001b[0mhyperparameter_results\u001b[0m \u001b[1;33m=\u001b[0m \u001b[0mhyperparameter_tuning\u001b[0m\u001b[1;33m(\u001b[0m\u001b[0mval_set\u001b[0m \u001b[1;33m=\u001b[0m \u001b[0murm_val\u001b[0m\u001b[1;33m)\u001b[0m\u001b[1;33m\u001b[0m\u001b[1;33m\u001b[0m\u001b[0m\n\u001b[0m",
      "\u001b[1;32m<ipython-input-31-026a47570a91>\u001b[0m in \u001b[0;36mhyperparameter_tuning\u001b[1;34m(val_set, n_epochs, early_stopping, max_out)\u001b[0m\n\u001b[0;32m      7\u001b[0m         \u001b[0mrecommender\u001b[0m \u001b[1;33m=\u001b[0m \u001b[0mItemKNNSLIMRecommender\u001b[0m\u001b[1;33m(\u001b[0m\u001b[0mURM\u001b[0m\u001b[1;33m=\u001b[0m\u001b[0murm_train\u001b[0m\u001b[1;33m)\u001b[0m\u001b[1;33m\u001b[0m\u001b[1;33m\u001b[0m\u001b[0m\n\u001b[0;32m      8\u001b[0m \u001b[1;33m\u001b[0m\u001b[0m\n\u001b[1;32m----> 9\u001b[1;33m         ev_map = recommender.fit(validation_set = val_set,\n\u001b[0m\u001b[0;32m     10\u001b[0m                                  \u001b[0mlearning_rate\u001b[0m \u001b[1;33m=\u001b[0m \u001b[0mlrate\u001b[0m\u001b[1;33m,\u001b[0m\u001b[1;33m\u001b[0m\u001b[1;33m\u001b[0m\u001b[0m\n\u001b[0;32m     11\u001b[0m                                  \u001b[0mn_epochs\u001b[0m \u001b[1;33m=\u001b[0m \u001b[0mn_epochs\u001b[0m\u001b[1;33m,\u001b[0m\u001b[1;33m\u001b[0m\u001b[1;33m\u001b[0m\u001b[0m\n",
      "\u001b[1;32m<ipython-input-27-60ad9a0556c6>\u001b[0m in \u001b[0;36mfit\u001b[1;34m(self, validation_set, learning_rate, n_epochs, early_stopping, max_out)\u001b[0m\n\u001b[0;32m     26\u001b[0m                 \u001b[0mn_out\u001b[0m\u001b[1;33m=\u001b[0m\u001b[1;36m0\u001b[0m\u001b[1;33m\u001b[0m\u001b[1;33m\u001b[0m\u001b[0m\n\u001b[0;32m     27\u001b[0m                 \u001b[0mmax_map\u001b[0m \u001b[1;33m=\u001b[0m \u001b[0mmap_val\u001b[0m\u001b[1;33m\u001b[0m\u001b[1;33m\u001b[0m\u001b[0m\n\u001b[1;32m---> 28\u001b[1;33m                 \u001b[0mW_best\u001b[0m \u001b[1;33m=\u001b[0m \u001b[0mself\u001b[0m\u001b[1;33m.\u001b[0m\u001b[0mW_sparse\u001b[0m\u001b[1;33m.\u001b[0m\u001b[0mcopy\u001b[0m\u001b[1;33m(\u001b[0m\u001b[1;33m)\u001b[0m\u001b[1;33m\u001b[0m\u001b[1;33m\u001b[0m\u001b[0m\n\u001b[0m\u001b[0;32m     29\u001b[0m             \u001b[1;32melif\u001b[0m \u001b[0mmap_val\u001b[0m \u001b[1;33m<\u001b[0m \u001b[0mprev_map\u001b[0m\u001b[1;33m:\u001b[0m\u001b[1;33m\u001b[0m\u001b[1;33m\u001b[0m\u001b[0m\n\u001b[0;32m     30\u001b[0m                 \u001b[0mn_out\u001b[0m\u001b[1;33m+=\u001b[0m\u001b[1;36m1\u001b[0m\u001b[1;33m\u001b[0m\u001b[1;33m\u001b[0m\u001b[0m\n",
      "\u001b[1;31mKeyboardInterrupt\u001b[0m: "
     ]
    }
   ],
   "source": [
    "hyperparameter_results = hyperparameter_tuning(val_set = urm_val)"
   ]
  },
  {
   "cell_type": "code",
   "execution_count": null,
   "metadata": {
    "scrolled": true
   },
   "outputs": [],
   "source": [
    "hyperparameter_results"
   ]
  },
  {
   "cell_type": "markdown",
   "metadata": {},
   "source": [
    "### Submission to competition"
   ]
  },
  {
   "cell_type": "code",
   "execution_count": null,
   "metadata": {},
   "outputs": [],
   "source": [
    "urm_train_validation = urm_train + urm_val"
   ]
  },
  {
   "cell_type": "code",
   "execution_count": null,
   "metadata": {},
   "outputs": [],
   "source": [
    "best_recommender = ItemKNNSLIMRecommender(URM=urm_train)\n",
    "best_recommender.fit(validation_set = urm_val,\n",
    "                     learning_rate = \"DA_METTERE\",\n",
    "                     n_epochs = 200,\n",
    "                     early_stopping = True,\n",
    "                     max_out = 10)"
   ]
  },
  {
   "cell_type": "code",
   "execution_count": null,
   "metadata": {},
   "outputs": [],
   "source": [
    "def prepare_submission(urm_train: sps.csr_matrix, recommender: object) -> list:\n",
    "    \"\"\"CREA LA LISTA DI TUPLE (USERID,LISTA DI ITEMIDS RACCOMANDATI)\"\"\"\n",
    "    users_to_recommend = pd.read_csv(\"./data/data_target_users_test.csv\",\n",
    "                                     names=[\"user_id\"],\n",
    "                                     header=None,\n",
    "                                     skiprows=1,\n",
    "                                     dtype={\"user_id\": np.int32})\n",
    "\n",
    "    recommendation_length = 10\n",
    "    submission = []\n",
    "    for user_id in users_to_recommend.user_id:\n",
    "        recommendations = recommender.recommend(user_id=user_id,\n",
    "                                                urm_train=urm_train,\n",
    "                                                at=recommendation_length)\n",
    "        submission.append((user_id, recommendations))\n",
    "\n",
    "    return submission"
   ]
  },
  {
   "cell_type": "code",
   "execution_count": null,
   "metadata": {},
   "outputs": [],
   "source": [
    "submission = prepare_submission(urm_train_validation, best_recommender)"
   ]
  },
  {
   "cell_type": "code",
   "execution_count": null,
   "metadata": {},
   "outputs": [],
   "source": [
    "submission"
   ]
  },
  {
   "cell_type": "code",
   "execution_count": null,
   "metadata": {},
   "outputs": [],
   "source": [
    "from datetime import date\n",
    "today = date.today().strftime(\"%d-%m-%y\")\n",
    "dm.write_submission(submission, \"ItemKNNSLIMRecommender-\"+today)"
   ]
  }
 ],
 "metadata": {
  "kernelspec": {
   "display_name": "Python 3",
   "language": "python",
   "name": "python3"
  },
  "language_info": {
   "codemirror_mode": {
    "name": "ipython",
    "version": 3
   },
   "file_extension": ".py",
   "mimetype": "text/x-python",
   "name": "python",
   "nbconvert_exporter": "python",
   "pygments_lexer": "ipython3",
   "version": "3.8.3"
  }
 },
 "nbformat": 4,
 "nbformat_minor": 4
}
